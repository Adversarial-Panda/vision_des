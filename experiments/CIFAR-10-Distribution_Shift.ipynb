{
 "cells": [
  {
   "cell_type": "markdown",
   "id": "e340fa8c-f6aa-4f22-8149-5bee0861ec68",
   "metadata": {},
   "source": [
    "## Distribution Shift (CIFAR 10) "
   ]
  },
  {
   "cell_type": "code",
   "execution_count": 23,
   "id": "c8dd632c-c01c-43c6-b157-e1f87c87d6db",
   "metadata": {},
   "outputs": [],
   "source": [
    "import timm\n",
    "import time \n",
    "import torch\n",
    "import torch.nn as nn\n",
    "import torch.nn.functional as F\n",
    "import torchvision.transforms as transforms\n",
    "from torch.utils.data import DataLoader\n",
    "from medmnist import INFO\n",
    "import numpy as np\n",
    "import faiss\n",
    "import copy\n",
    "from tqdm import tqdm\n",
    "\n",
    "from torch.nn.functional import softmax, cosine_similarity\n",
    "from collections import Counter\n",
    "import matplotlib.pyplot as plt\n",
    "import torchvision.transforms.functional as TF\n",
    "import torch\n",
    "import torch.nn as nn\n",
    "from torch.utils.data import DataLoader\n",
    "import clip\n",
    "import os \n",
    "\n",
    "import warnings\n",
    "warnings.filterwarnings(\"ignore\")"
   ]
  },
  {
   "cell_type": "code",
   "execution_count": 24,
   "id": "278793fe-dcf6-4ab0-b377-c0557a7d9026",
   "metadata": {},
   "outputs": [],
   "source": [
    "device_name = 'cuda:1' \n",
    "\n",
    "device = torch.device(device_name if torch.cuda.is_available() else \"cpu\")"
   ]
  },
  {
   "cell_type": "code",
   "execution_count": 25,
   "id": "791c3db7-f94a-4764-8d57-bb88125a9303",
   "metadata": {},
   "outputs": [
    {
     "name": "stdout",
     "output_type": "stream",
     "text": [
      "tench\n"
     ]
    }
   ],
   "source": [
    "import json\n",
    "import urllib.request\n",
    "\n",
    "url = \"https://raw.githubusercontent.com/pytorch/hub/master/imagenet_classes.txt\"\n",
    "imagenet_classes = urllib.request.urlopen(url).read().decode().splitlines()\n",
    "print(imagenet_classes[0])"
   ]
  },
  {
   "cell_type": "code",
   "execution_count": null,
   "id": "a42634c9-7f21-42c9-a990-8363040e110e",
   "metadata": {},
   "outputs": [],
   "source": []
  },
  {
   "cell_type": "code",
   "execution_count": 26,
   "id": "8da3cf88-1834-40e5-81ff-6c495c75ed65",
   "metadata": {},
   "outputs": [],
   "source": [
    "### import archetecture of models \n",
    "\n",
    "from trained_models_cifar10.models.vgg_models import * \n",
    "from trained_models_cifar10.models.resnet_models import * \n",
    "from trained_models_cifar10.models.densenet_models import * \n",
    "from trained_models_cifar10.models.mobilenetv2_cifar10 import * \n",
    "from trained_models_cifar10.models.googlenet_cifar10 import * \n",
    "from trained_models_cifar10.models.xception_cifar10 import * \n",
    "from trained_models_cifar10.models.inceptionv3_cifar10 import * "
   ]
  },
  {
   "cell_type": "code",
   "execution_count": 27,
   "id": "456ef8d1-0ee4-4921-9729-cf5bf0c89886",
   "metadata": {},
   "outputs": [],
   "source": [
    "## getting the archetecture of model from models.vgg_models \n",
    "vgg19_model = VGG('VGG19')\n",
    "resnet50_model = ResNet50() \n",
    "densenet169_model = DenseNet169() \n",
    "mobilenetV2_model = MobileNetV2() \n",
    "googlenet_model = GoogLeNet()  \n",
    "xception_model = xception()  \n",
    "inceptionv3_model = inceptionv3()"
   ]
  },
  {
   "cell_type": "code",
   "execution_count": 28,
   "id": "9fc1add9-d1f2-4c6b-a78e-527a7d808d1a",
   "metadata": {},
   "outputs": [
    {
     "data": {
      "text/plain": [
       "<All keys matched successfully>"
      ]
     },
     "execution_count": 28,
     "metadata": {},
     "output_type": "execute_result"
    }
   ],
   "source": [
    "trained_models_directory = \"trained_models_cifar10/\" \n",
    "\n",
    "vgg_19_model_file_name = \"vgg19_cifar10_lr01.pth\" \n",
    "resnet50_model_file_name = \"resnet50_cifar10_lr01.pth\" \n",
    "densenet169_model_file_name = \"densenet169_cifar10_lr01.pth\" \n",
    "mobilenetV2_model_file_name = \"mobilenetv2_cifar10_lr01.pth\" \n",
    "googlenet_model_file_name = \"googlenet_cifar_lr01.pth\" \n",
    "xception_model_file_name = \"xception_cifar10_lr01.pth\" \n",
    "inceptionv3_model_file_name = \"inceptionv3_cifar10_lr01.pth\"\n",
    "\n",
    "vgg19_path = os.path.join(trained_models_directory, vgg_19_model_file_name) \n",
    "resnet50_path = os.path.join(trained_models_directory, resnet50_model_file_name) \n",
    "densenet169_path = os.path.join(trained_models_directory, densenet169_model_file_name) \n",
    "mobilenetV2_path = os.path.join(trained_models_directory, mobilenetV2_model_file_name) \n",
    "googlenet_path = os.path.join(trained_models_directory, googlenet_model_file_name) \n",
    "xception_path = os.path.join(trained_models_directory, xception_model_file_name) \n",
    "inceptionv3_path = os.path.join(trained_models_directory, inceptionv3_model_file_name) \n",
    "\n",
    "## load the model \n",
    "vgg19_model.load_state_dict(torch.load(vgg19_path, map_location=device_name)['net'])\n",
    "resnet50_model.load_state_dict(torch.load(resnet50_path, map_location=device_name)['net'])\n",
    "densenet169_model.load_state_dict(torch.load(densenet169_path, map_location=device_name)['net'])\n",
    "mobilenetV2_model.load_state_dict(torch.load(mobilenetV2_path, map_location=device_name)['net'])\n",
    "googlenet_model.load_state_dict(torch.load(googlenet_path, map_location=device_name)['net'])\n",
    "xception_model.load_state_dict(torch.load(xception_path, map_location=device_name)['net'])\n",
    "inceptionv3_model.load_state_dict(torch.load(inceptionv3_path, map_location=device_name)['net'])"
   ]
  },
  {
   "cell_type": "code",
   "execution_count": 7,
   "id": "eb75983d-abfe-49c0-917c-c6fc17fd5513",
   "metadata": {},
   "outputs": [],
   "source": [
    "trained_pool = [\n",
    "                # vgg19_model.eval(), \n",
    "                resnet50_model.eval(), \n",
    "                densenet169_model.eval(), \n",
    "                mobilenetV2_model.eval(), \n",
    "                googlenet_model.eval(), \n",
    "                xception_model.eval(), \n",
    "                inceptionv3_model.eval()\n",
    "               ]\n",
    "\n",
    "\n",
    "model_names = [\n",
    "    # \"VGG19\",\n",
    "    \"ResNet50\",\n",
    "    \"DenseNet169\",\n",
    "    \"MobileNetV2\",\n",
    "    \"GoogleNet\", \n",
    "    \"Xception\", \n",
    "    \"InceptionV3\"\n",
    "]"
   ]
  },
  {
   "cell_type": "code",
   "execution_count": null,
   "id": "b9e1988c-b33f-4f9e-ab3d-1cf3362f3f3b",
   "metadata": {},
   "outputs": [],
   "source": []
  },
  {
   "cell_type": "markdown",
   "id": "403f56ce-d6d5-49e0-ba31-79b452c71cbe",
   "metadata": {},
   "source": [
    "### Dataset Loading "
   ]
  },
  {
   "cell_type": "code",
   "execution_count": 29,
   "id": "99958ae6-4e15-405e-91d3-50cbdaa25b88",
   "metadata": {},
   "outputs": [
    {
     "name": "stdout",
     "output_type": "stream",
     "text": [
      "Validation samples: 8000\n",
      "Test samples: 2000\n"
     ]
    }
   ],
   "source": [
    "import torch\n",
    "import torchvision\n",
    "import torchvision.transforms as transforms\n",
    "from torch.utils.data import random_split, DataLoader\n",
    "\n",
    "transform = transforms.Compose([\n",
    "    transforms.ToTensor(),\n",
    "    transforms.Normalize((0.4914, 0.4822, 0.4465), (0.2023, 0.1994, 0.2010)),\n",
    "])\n",
    "\n",
    "# Load the full CIFAR10 test set (10,000 samples)\n",
    "full_testset = torchvision.datasets.CIFAR10(\n",
    "    root='./data', train=False, download=True, transform=transform)\n",
    "\n",
    "# Calculate split sizes\n",
    "val_size = int(0.80 * len(full_testset))  # 7000\n",
    "test_size = len(full_testset) - val_size  # 3000\n",
    "\n",
    "# Randomly split into validation and test subsets\n",
    "val_set, test_set = random_split(\n",
    "    full_testset, [val_size, test_size],\n",
    "    generator=torch.Generator().manual_seed(56)\n",
    ")\n",
    "\n",
    "# Create DataLoaders\n",
    "valloader = DataLoader(val_set, batch_size=100, shuffle=False, num_workers=2)\n",
    "testloader = DataLoader(test_set, batch_size=100, shuffle=False, num_workers=2)\n",
    "\n",
    "print(f\"Validation samples: {len(val_set)}\")\n",
    "print(f\"Test samples: {len(test_set)}\")"
   ]
  },
  {
   "cell_type": "code",
   "execution_count": 9,
   "id": "c69b5bb3-4c3d-4361-a39b-8393152edee0",
   "metadata": {},
   "outputs": [
    {
     "name": "stdout",
     "output_type": "stream",
     "text": [
      "CIFAR-10.1 samples: 2000\n"
     ]
    }
   ],
   "source": [
    "import torch\n",
    "from torch.utils.data import Dataset, DataLoader\n",
    "import numpy as np\n",
    "from torchvision import transforms\n",
    "\n",
    "# Define transforms (same as CIFAR-10 for consistency)\n",
    "transform = transforms.Compose([\n",
    "    transforms.ToTensor(),\n",
    "    transforms.Normalize((0.4914, 0.4822, 0.4465),\n",
    "                         (0.2023, 0.1994, 0.2010)),\n",
    "])\n",
    "\n",
    "class CIFAR10_1(Dataset):\n",
    "    def __init__(self, data_path, labels_path, transform=None):\n",
    "        self.data = np.load(data_path)  # shape (2000, 32, 32, 3)\n",
    "        self.labels = np.load(labels_path)  # shape (2000,)\n",
    "        self.transform = transform\n",
    "\n",
    "    def __len__(self):\n",
    "        return len(self.data)\n",
    "\n",
    "    def __getitem__(self, idx):\n",
    "        img, label = self.data[idx], int(self.labels[idx])\n",
    "        if self.transform:\n",
    "            img = self.transform(img)\n",
    "        return img, label\n",
    "\n",
    "# Load CIFAR-10.1 dataset\n",
    "cifar10_1 = CIFAR10_1(\n",
    "    data_path='./cifar10.1_v6_data.npy',\n",
    "    labels_path='./cifar10.1_v6_labels.npy',\n",
    "    transform=transform\n",
    ")\n",
    "\n",
    "# DataLoader\n",
    "cifar10_1_loader = DataLoader(cifar10_1, batch_size=100,\n",
    "                              shuffle=False, num_workers=2)\n",
    "\n",
    "print(f\"CIFAR-10.1 samples: {len(cifar10_1)}\")\n"
   ]
  },
  {
   "cell_type": "code",
   "execution_count": null,
   "id": "533a17e3-e034-4207-95b3-51e149bc2e31",
   "metadata": {},
   "outputs": [],
   "source": []
  },
  {
   "cell_type": "markdown",
   "id": "a78d39c4-5747-46fb-89d3-24369c43bec7",
   "metadata": {},
   "source": [
    "## Base Models "
   ]
  },
  {
   "cell_type": "code",
   "execution_count": 10,
   "id": "1de9a88b-0d67-4a99-bb93-e8fb944c1bdd",
   "metadata": {},
   "outputs": [],
   "source": [
    "def visualize_test_and_roc(test_img, roc_imgs, local_labels, class_names=None):\n",
    "    def denormalize(img_tensor, mean, std):\n",
    "        mean = torch.tensor(mean).view(-1, 1, 1).to(img_tensor.device)\n",
    "        std = torch.tensor(std).view(-1, 1, 1).to(img_tensor.device)\n",
    "        return img_tensor * std + mean\n",
    "\n",
    "    mean = [0.485, 0.456, 0.406]\n",
    "    std  = [0.229, 0.224, 0.225] \n",
    "\n",
    "    k = roc_imgs.size(0)\n",
    "    ncols = min(k, 5)\n",
    "    nrows = 1 + (k + ncols - 1) // ncols  # one row for test image + RoC images\n",
    "    \n",
    "    plt.figure(figsize=(3 * ncols, 3 * nrows))\n",
    "    \n",
    "    # Plot test image\n",
    "    plt.subplot(nrows, ncols, 1)\n",
    "    denorm_img = denormalize(test_img, mean, std).clamp(0, 1)\n",
    "    img_np = TF.to_pil_image(denorm_img.cpu())\n",
    "    plt.imshow(img_np)\n",
    "    plt.title(\"Test Image\")\n",
    "    plt.axis(\"off\")\n",
    "    \n",
    "    # Plot RoC images\n",
    "    for i in range(k):\n",
    "        plt.subplot(nrows, ncols, i + 2)\n",
    "        denorm_img = denormalize(roc_imgs[i], mean, std).clamp(0, 1)\n",
    "        img_np = TF.to_pil_image(denorm_img.cpu())\n",
    "        label = local_labels[i]\n",
    "        if class_names:\n",
    "            label = class_names[label]\n",
    "        plt.imshow(img_np)\n",
    "        plt.title(f\"RoC #{i+1}\\nLabel: {label}\")\n",
    "        plt.axis(\"off\")\n",
    "    \n",
    "    plt.tight_layout()\n",
    "    plt.show()"
   ]
  },
  {
   "cell_type": "code",
   "execution_count": 11,
   "id": "1152dba2-b8cf-447c-a9d4-6a5d0459761b",
   "metadata": {},
   "outputs": [],
   "source": [
    "def get_last_linear_layer(model):\n",
    "    \"\"\"\n",
    "    Try to find the last Linear layer in the model,\n",
    "    using common attribute names and fallback to scanning modules.\n",
    "    \"\"\"\n",
    "    name = model.__class__.__name__.lower()\n",
    "\n",
    "    # Common last layer attribute names to try (ViT, EfficientNet, etc)\n",
    "    candidate_attrs = ['head', 'heads', 'classifier', 'fc', 'mlp_head']\n",
    "\n",
    "    for attr in candidate_attrs:\n",
    "        if hasattr(model, attr):\n",
    "            layer = getattr(model, attr)\n",
    "            # If it's directly a Linear layer\n",
    "            if isinstance(layer, nn.Linear):\n",
    "                return layer\n",
    "            # If Sequential or Module, find last Linear inside it\n",
    "            if isinstance(layer, nn.Sequential) or isinstance(layer, nn.Module):\n",
    "                # Find last Linear inside this attribute recursively\n",
    "                last_linear = None\n",
    "                for child in reversed(list(layer.modules())):\n",
    "                    if isinstance(child, nn.Linear):\n",
    "                        last_linear = child\n",
    "                        break\n",
    "                if last_linear is not None:\n",
    "                    return last_linear\n",
    "\n",
    "    # Fallback: scan all modules and pick the last Linear\n",
    "    last_linear = None\n",
    "    for m in model.modules():\n",
    "        if isinstance(m, nn.Linear):\n",
    "            last_linear = m\n",
    "    if last_linear is not None:\n",
    "        return last_linear\n",
    "\n",
    "    raise RuntimeError(\"No Linear layer found in model\")\n",
    "\n",
    "\n",
    "def get_features_before_last_linear(model, x):\n",
    "    features = {}\n",
    "\n",
    "    def find_last_linear(module):\n",
    "        last_linear = None\n",
    "        for m in module.modules():\n",
    "            if isinstance(m, torch.nn.Linear):\n",
    "                last_linear = m\n",
    "        return last_linear\n",
    "\n",
    "    last_linear = find_last_linear(model)\n",
    "    if last_linear is None:\n",
    "        raise RuntimeError(\"No Linear layer found in model\")\n",
    "\n",
    "    def hook(module, input, output):\n",
    "        features['feat'] = input[0].detach()\n",
    "\n",
    "    handle = last_linear.register_forward_hook(hook)\n",
    "\n",
    "    model.eval()\n",
    "    with torch.no_grad():\n",
    "        _ = model(x)\n",
    "\n",
    "    handle.remove()\n",
    "\n",
    "    if 'feat' not in features:\n",
    "        raise RuntimeError(\"Failed to capture features from last linear layer\")\n",
    "\n",
    "    return features['feat']"
   ]
  },
  {
   "cell_type": "code",
   "execution_count": 12,
   "id": "a5af5fd3-948c-4a60-83e8-4921cb4fd178",
   "metadata": {},
   "outputs": [],
   "source": [
    "def fire_check(local_labels, preds, per_class_min=1):\n",
    "    local_labels = np.asarray(local_labels)\n",
    "\n",
    "    # If preds are logits/probs, convert to labels\n",
    "    preds = np.asarray(preds)\n",
    "    if preds.ndim > 1:\n",
    "        preds = preds.argmax(axis=1)\n",
    "\n",
    "    # Classes present in the RoC (unique, not repeated)\n",
    "    classes_in_roc = np.unique(local_labels)\n",
    "\n",
    "    # Check: for each class c in RoC, there is at least `per_class_min` correct prediction\n",
    "    missing = []\n",
    "    for c in classes_in_roc:\n",
    "        mask = (local_labels == c)\n",
    "        n_correct = int(np.sum(preds[mask] == c))\n",
    "        if n_correct < per_class_min:\n",
    "            missing.append((int(c), n_correct))  # track which class is short\n",
    "\n",
    "    fire_ok = (len(missing) == 0)\n",
    "    return fire_ok"
   ]
  },
  {
   "cell_type": "markdown",
   "id": "6e419cc0-d10f-46e2-aa8c-42b4173ca370",
   "metadata": {},
   "source": [
    "## VisionDES "
   ]
  },
  {
   "cell_type": "code",
   "execution_count": 100,
   "id": "e601fbc7-41ed-4826-aeac-c6068b7bc0ab",
   "metadata": {},
   "outputs": [],
   "source": [
    "\n",
    "class VisionDES: \n",
    "    def __init__(self, dsel_dataset, pool): \n",
    "        self.dsel_dataset = dsel_dataset\n",
    "        self.dsel_loader = DataLoader(dsel_dataset, batch_size=32, shuffle=False) \n",
    "        self.dino_model = timm.create_model('vit_base_patch8_224.dino', pretrained=True).to(device)\n",
    "        self.dino_model.eval()  \n",
    "        self.pool = pool \n",
    "\n",
    "        self.suspected_model_votes = [] \n",
    "        \n",
    "        \n",
    "    def dino_embedder(self, images):\n",
    "        if images.shape[1] == 1:\n",
    "            images = images.repeat(1, 3, 1, 1)\n",
    "\n",
    "        images = F.interpolate(images, size=(224, 224), mode=\"bilinear\", align_corners=False) \n",
    "        return self.dino_model.forward_features(images)\n",
    "\n",
    "\n",
    "    def fit(self): \n",
    "        dsel_embeddings = []\n",
    "        dsel_labels = []\n",
    "    \n",
    "        with torch.no_grad():\n",
    "            for imgs, labels in tqdm(self.dsel_loader):\n",
    "                imgs = imgs.to(device)\n",
    "                embs = self.dino_embedder(imgs).cpu()  \n",
    "                dsel_embeddings.append(embs)\n",
    "                dsel_labels.append(labels)\n",
    "    \n",
    "        # Keep as tensor\n",
    "        dsel_embeddings_tensor = torch.cat(dsel_embeddings).detach().cpu()  \n",
    "        cls_tensor = dsel_embeddings_tensor[:, 0, :]  \n",
    "    \n",
    "        # Convert to NumPy\n",
    "        cls_embeddings = np.ascontiguousarray(cls_tensor.numpy(), dtype='float32')\n",
    "        self.dsel_embeddings = cls_embeddings\n",
    "        self.dsel_labels = torch.cat(dsel_labels).numpy()\n",
    "    \n",
    "        # Build FAISS index\n",
    "        embedding_dim = cls_embeddings.shape[1]\n",
    "        self.index = faiss.IndexFlatL2(embedding_dim)\n",
    "        self.index.add(cls_embeddings)\n",
    "\n",
    "    \n",
    "    def get_output_size(self, model):\n",
    "        \"\"\"\n",
    "        Returns the output size (number of classes) from various model architectures.\n",
    "        \"\"\"\n",
    "        if hasattr(model, 'fc'):\n",
    "            return model.fc.out_features\n",
    "        elif hasattr(model, 'classifier'):\n",
    "            if isinstance(model.classifier, nn.Sequential):\n",
    "                return model.classifier[-1].out_features\n",
    "            else:\n",
    "                return model.classifier.out_features\n",
    "        elif hasattr(model, 'heads'):  # ViT / DINO from torchvision\n",
    "            return model.heads.head.out_features\n",
    "        elif hasattr(model, 'head'):  # ViT/Swin from timm\n",
    "            return model.head.out_features\n",
    "        else:\n",
    "            raise AttributeError(\"Cannot determine output size of the model.\")\n",
    "\n",
    "\n",
    "    def predict_weighted_robust(self, test_img, k=7, return_logits=False, explain=False, top=False, n=3, use_fire=False, per_class_min=1, \n",
    "                                use_sim=False, sim_threshold=0, alpha=0.6, knorae=False):\n",
    "        # Step 1: Get DINO CLS embedding for the test image\n",
    "        img_for_dino = test_img.unsqueeze(0).to(device)\n",
    "        img_for_dino = F.interpolate(img_for_dino, size=(224, 224), mode=\"bilinear\", align_corners=False) \n",
    "        \n",
    "        with torch.no_grad():\n",
    "            test_emb = self.dino_model.forward_features(img_for_dino).cpu().numpy().astype('float32')\n",
    "            test_emb = test_emb[:, 0, :]  # CLS token only\n",
    "    \n",
    "        # Step 2: Find k nearest neighbors in FAISS (Region of Competence)\n",
    "        distances, neighbors = self.index.search(test_emb, k)\n",
    "        neighbor_idxs = neighbors[0]\n",
    "        local_labels = self.dsel_labels[neighbor_idxs]\n",
    "        local_labels = np.array(local_labels).flatten()\n",
    "    \n",
    "        # Step 3: Get RoC images\n",
    "        with torch.no_grad():\n",
    "            roc_imgs = torch.stack([self.dsel_dataset[idx][0] for idx in neighbor_idxs]).to(device)\n",
    "    \n",
    "        # Step 4: Evaluate classifiers — compute competence and feature similarity\n",
    "        competences, soft_outputs, feature_similarities, passed_fire, correct_counts = [], [], [], [], []\n",
    "    \n",
    "        test_img_batch = test_img.unsqueeze(0).to(device)\n",
    "    \n",
    "        for clf in self.pool:\n",
    "            clf.eval()\n",
    "            with torch.no_grad():\n",
    "                outputs = clf(roc_imgs)\n",
    "                preds = outputs.argmax(dim=1).cpu().numpy()\n",
    "                correct = (preds == local_labels).sum()\n",
    "                competence = correct / k\n",
    "                competences.append(competence)\n",
    "                correct_counts.append(correct)\n",
    "\n",
    "                # 🔥 FIRE check: at least one correct per class\n",
    "                fire_ok = fire_check(local_labels, preds, per_class_min=per_class_min) \n",
    "                passed_fire.append(fire_ok)\n",
    "\n",
    "                logits = clf(test_img.unsqueeze(0).to(device)).squeeze(0)\n",
    "                probs = softmax(logits, dim=0)\n",
    "                soft_outputs.append(probs)\n",
    "\n",
    "                # Feature similarity using ResNet embeddings\n",
    "                test_feat = get_features_before_last_linear(clf, test_img.unsqueeze(0).to(device))\n",
    "                roc_feats = get_features_before_last_linear(clf, roc_imgs)\n",
    "                mean_feat = roc_feats.mean(dim=0, keepdim=True)\n",
    "\n",
    "                sim = cosine_similarity(test_feat / test_feat.norm(), mean_feat / mean_feat.norm(), dim=1)\n",
    "                feature_similarities.append(sim.item())\n",
    "\n",
    "        # 5️⃣ KNORA-E selection logic\n",
    "        if knorae: \n",
    "            selected_indices = []\n",
    "            required_correct = k  # start with strict condition (all correct)\n",
    "            while required_correct >= 1 and not selected_indices:\n",
    "                selected_indices = [i for i, c in enumerate(correct_counts) if c >= required_correct]\n",
    "                required_correct -= 1\n",
    "    \n",
    "            if not selected_indices:  # failsafe: fall back to all models\n",
    "                selected_indices = list(range(len(self.pool)))\n",
    "\n",
    "            for i in range(len(self.pool)): \n",
    "                if i not in selected_indices: \n",
    "                    competences[i] = 0.0 \n",
    "                    # feature_similarities[i] = 0.0 \n",
    "    \n",
    "        # Step 5: Combine competence & feature similarity into a score\n",
    "        if use_sim:\n",
    "            selected_feature_sims = [s if s > sim_threshold else 0.0 for s in feature_similarities]\n",
    "            combined_scores = [alpha * c + (1 - alpha) * s for c, s in zip(competences, selected_feature_sims)]\n",
    "        else:\n",
    "            combined_scores = competences[:]\n",
    "        \n",
    "        if use_fire:\n",
    "            combined_scores = [s if passed_fire[i] else 0.0 for i, s in enumerate(combined_scores)]\n",
    "        \n",
    "        # Step 6: Select models\n",
    "        if top:\n",
    "            top_n_idx = np.argsort(combined_scores)[::-1][:n]  # top-n in descending order\n",
    "            total_score = sum(combined_scores[i] for i in top_n_idx)\n",
    "            if total_score == 0:\n",
    "                weights = [1.0 / n] * n\n",
    "            else:\n",
    "                weights = [combined_scores[i] / total_score for i in top_n_idx]\n",
    "        else:\n",
    "            total_score = sum(combined_scores)\n",
    "            if total_score == 0:\n",
    "                weights = [1.0 / len(self.pool)] * len(self.pool)\n",
    "            else:\n",
    "                weights = [s / total_score for s in combined_scores]\n",
    "    \n",
    "        # Step 7: Weighted aggregation of top-n classifier outputs\n",
    "        num_classes = 10\n",
    "        weighted_logits = torch.zeros(10).to(device)\n",
    "\n",
    "        if top: \n",
    "            for idx, weight in zip(top_n_idx, weights):\n",
    "                # print(idx, weight, soft_outputs[idx][:10])\n",
    "                weighted_logits += weight * soft_outputs[idx]\n",
    "        else: \n",
    "            for prob, weight in zip(soft_outputs, weights):\n",
    "                weighted_logits += weight * prob\n",
    "            \n",
    "    \n",
    "        # Step 8: Keep track of suspected attacked model\n",
    "        min_sim_idx = int(np.argmin(feature_similarities))\n",
    "        self.suspected_model_votes.append(min_sim_idx)\n",
    "\n",
    "        # Step 8: Optional explainability\n",
    "        # Step 8: Optional explainability\n",
    "        if explain:\n",
    "            print(\"\\nExplainability Report:\")\n",
    "        \n",
    "            if top:  # only report top-n models\n",
    "                for idx, weight in zip(top_n_idx, weights):\n",
    "                    prob = soft_outputs[idx]\n",
    "                    comp = competences[idx]\n",
    "                    sim = feature_similarities[idx]\n",
    "                    fire = passed_fire[idx]\n",
    "                    com_score = combined_scores[idx]\n",
    "        \n",
    "                    pred_class = prob.argmax().item()\n",
    "                    conf = prob[pred_class].item()\n",
    "                    topk = torch.topk(prob, k=5)\n",
    "        \n",
    "                    print(f\"Model #{idx}: {self.pool[idx].__class__.__name__}\")\n",
    "                    print(f\"  - Competence: {comp:.4f}\")\n",
    "                    print(f\"  - Feature similarity: {sim:.4f}\")\n",
    "                    print(f\"  - Combined score: {com_score:.4f}\")\n",
    "                    print(f\"  - Combined weight: {weight:.4f}\")\n",
    "                    print(f\"  - 🔥 FIRE: {fire}\")\n",
    "                    print(f\"  - Predicted class: {pred_class} with confidence {conf:.4f}\")\n",
    "                    print(f\"  - Top-5: {topk.indices.tolist()} → {[round(p.item(), 3) for p in topk.values]}\")\n",
    "                    print(\"-\" * 50)\n",
    "            else:  # report all models\n",
    "                for idx, (comp, sim, weight, prob, fire, com_score) in enumerate(\n",
    "                    zip(competences, feature_similarities, weights, soft_outputs, passed_fire, combined_scores)\n",
    "                ):\n",
    "                    pred_class = prob.argmax().item()\n",
    "                    conf = prob[pred_class].item()\n",
    "                    topk = torch.topk(prob, k=5)\n",
    "        \n",
    "                    print(f\"Model #{idx}: {self.pool[idx].__class__.__name__}\")\n",
    "                    print(f\"  - Competence: {comp:.4f}\")\n",
    "                    print(f\"  - Feature similarity: {sim:.4f}\")\n",
    "                    print(f\"  - Combined score: {com_score:.4f}\")\n",
    "                    print(f\"  - Combined weight: {weight:.4f}\")\n",
    "                    print(f\"  - 🔥 FIRE: {fire}\")\n",
    "                    print(f\"  - Predicted class: {pred_class} with confidence {conf:.4f}\")\n",
    "                    print(f\"  - Top-5: {topk.indices.tolist()} → {[round(p.item(), 3) for p in topk.values]}\")\n",
    "                    print(\"-\" * 50)\n",
    "        \n",
    "            print(f\"\\n🧠 Final prediction: {weighted_logits.argmax().item()}\")\n",
    "            top5 = torch.topk(weighted_logits, k=5)\n",
    "            print(f\"🔝 Top-5 predictions:\")\n",
    "            for i in range(5):\n",
    "                print(f\"  - Class {top5.indices[i].item()}: {top5.values[i].item():.4f}\")\n",
    "        \n",
    "            print(\"\\nModel weight distribution:\")\n",
    "            if top:\n",
    "                for idx, w in zip(top_n_idx, weights):\n",
    "                    print(f\"  Model #{idx}: {w:.4f}\")\n",
    "            else:\n",
    "                for idx, w in enumerate(weights):\n",
    "                    print(f\"  Model #{idx}: {w:.4f}\")\n",
    "        \n",
    "            print(f\"Suspected attacked model: Model #{min_sim_idx} ({self.pool[min_sim_idx].__class__.__name__})\")\n",
    "        \n",
    "            print(\"\\nRoC visualization:\")\n",
    "            visualize_test_and_roc(test_img.squeeze(0), roc_imgs, local_labels)\n",
    "            print(distances)\n",
    "\n",
    "        if return_logits:\n",
    "            return weighted_logits\n",
    "        return weighted_logits.argmax().item()\n",
    "\n",
    "    def predict(self, dataloader): \n",
    "        total = 0\n",
    "        correct = 0 \n",
    "\n",
    "        dataset_offset = 0 \n"
   ]
  },
  {
   "cell_type": "markdown",
   "id": "7f7a64e9-ebd9-4f20-aca8-5e2d28b5b20f",
   "metadata": {},
   "source": [
    "### Evaluate DES "
   ]
  },
  {
   "cell_type": "code",
   "execution_count": 101,
   "id": "f5342509-3e95-4f8d-826a-ecdce7bbb17d",
   "metadata": {},
   "outputs": [],
   "source": [
    "from sklearn.metrics import precision_recall_fscore_support\n",
    "\n",
    "def evaluate_des_with_fails(des_model, dataloader, dataset, average=\"weighted\"):\n",
    "    total = 0\n",
    "    correct = 0\n",
    "    failed_indices = []\n",
    "    dataset_offset = 0  # to map dataloader batches back to dataset indices\n",
    "    \n",
    "    all_preds = []\n",
    "    all_labels = []\n",
    "\n",
    "    with torch.no_grad():\n",
    "        for imgs, labels in tqdm(dataloader, desc=\"Testing VisionDES\"):\n",
    "            imgs, labels = imgs.to(device), labels.to(device)\n",
    "\n",
    "            preds = []\n",
    "            for idx_in_batch, img in enumerate(imgs):\n",
    "                pred = des_model.predict_weighted_robust(\n",
    "                    img, k=5, return_logits=False, explain=False, top=False, n=3, \n",
    "                    use_fire=False, per_class_min=1, use_sim=True, sim_threshold=0, \n",
    "                    alpha=0.6, knorae=True\n",
    "                )\n",
    "                preds.append(pred)\n",
    "\n",
    "                # Collect failures (map batch index to dataset index)\n",
    "                if pred != labels[idx_in_batch].item():\n",
    "                    failed_indices.append(dataset_offset + idx_in_batch)\n",
    "\n",
    "            preds = torch.tensor(preds).to(device)\n",
    "\n",
    "            # accumulate results\n",
    "            all_preds.extend(preds.cpu().numpy())\n",
    "            all_labels.extend(labels.cpu().numpy())\n",
    "\n",
    "            correct += (preds == labels).sum().item()\n",
    "            total += labels.size(0)\n",
    "            dataset_offset += labels.size(0)\n",
    "\n",
    "    acc = correct / total\n",
    "    precision, recall, f1, _ = precision_recall_fscore_support(\n",
    "        all_labels, all_preds, average=average, zero_division=0\n",
    "    )\n",
    "    \n",
    "    print(f\"✅ Accuracy: {acc*100:.2f} | Precision: {precision*100:.2f} | Recall: {recall*100:.2f} | F1: {f1*100:.2f}\")\n",
    "    \n",
    "    return failed_indices\n"
   ]
  },
  {
   "cell_type": "code",
   "execution_count": 102,
   "id": "21b7e6e6-0d75-4bf8-be42-7962574f15d7",
   "metadata": {},
   "outputs": [
    {
     "data": {
      "application/vnd.jupyter.widget-view+json": {
       "model_id": "378b9f873eef48dd8ef0ca7b1a9ff799",
       "version_major": 2,
       "version_minor": 0
      },
      "text/plain": [
       "model.safetensors:   0%|          | 0.00/343M [00:00<?, ?B/s]"
      ]
     },
     "metadata": {},
     "output_type": "display_data"
    },
    {
     "name": "stderr",
     "output_type": "stream",
     "text": [
      "100%|█████████████████████████████████████████████████████████████████| 250/250 [01:36<00:00,  2.60it/s]\n"
     ]
    }
   ],
   "source": [
    "des_model = VisionDES(val_set, trained_pool)\n",
    "des_model.fit()"
   ]
  },
  {
   "cell_type": "markdown",
   "id": "59c400e0-5024-4861-9fd8-35942daec86b",
   "metadata": {},
   "source": [
    "## Static Ensemble "
   ]
  },
  {
   "cell_type": "code",
   "execution_count": 16,
   "id": "5d7f9a0f-2fc3-4790-ae2d-31eaf5b9c444",
   "metadata": {},
   "outputs": [],
   "source": [
    "class SoftVotingEnsemble:\n",
    "    def __init__(self, models, device='cpu'):\n",
    "        self.models = models\n",
    "        self.device = device\n",
    "        for model in self.models:\n",
    "            model.eval().to(device)\n",
    "\n",
    "    def predict(self, images, return_probs=False):\n",
    "        probs = []\n",
    "        with torch.no_grad():\n",
    "            for model in self.models:\n",
    "                outputs = model(images.to(self.device))\n",
    "                softmaxed = torch.softmax(outputs, dim=1)\n",
    "                probs.append(softmaxed.cpu().numpy())\n",
    "        mean_probs = np.mean(np.stack(probs), axis=0)\n",
    "        if return_probs:\n",
    "            return mean_probs\n",
    "        return np.argmax(mean_probs, axis=1)\n",
    "\n",
    "    def predict_single_with_probs(self, image):\n",
    "        image = image.unsqueeze(0)  # Shape [1, C, H, W]\n",
    "        with torch.no_grad():\n",
    "            model_probs = []\n",
    "            for model in self.models:\n",
    "                logits = model(image.to(self.device))\n",
    "                softmaxed = torch.softmax(logits, dim=1)\n",
    "                model_probs.append(softmaxed.cpu().numpy())\n",
    "            mean_probs = np.mean(np.stack(model_probs), axis=0)\n",
    "            probs = mean_probs[0]\n",
    "            pred = np.argmax(probs)\n",
    "            return probs, pred"
   ]
  },
  {
   "cell_type": "code",
   "execution_count": 17,
   "id": "2a525a59-e8e2-452f-a258-0881a45dccca",
   "metadata": {},
   "outputs": [],
   "source": [
    "import torch\n",
    "import numpy as np\n",
    "from collections import Counter\n",
    "\n",
    "class HardVotingEnsemble:\n",
    "    def __init__(self, models, device='cpu'):\n",
    "        self.models = models\n",
    "        self.device = device\n",
    "        for model in self.models:\n",
    "            model.eval().to(device)\n",
    "\n",
    "    def predict(self, images):\n",
    "        all_preds = []\n",
    "        with torch.no_grad():\n",
    "            for model in self.models:\n",
    "                outputs = model(images.to(self.device))\n",
    "                preds = torch.argmax(outputs, dim=1)\n",
    "                all_preds.append(preds.cpu().numpy())\n",
    "\n",
    "        # shape: [n_models, batch_size] → transpose to [batch_size, n_models]\n",
    "        all_preds = np.stack(all_preds, axis=0).T  \n",
    "\n",
    "        # majority vote for each sample\n",
    "        final_preds = []\n",
    "        for preds in all_preds:\n",
    "            most_common = Counter(preds).most_common(1)[0][0]\n",
    "            final_preds.append(most_common)\n",
    "\n",
    "        return np.array(final_preds)\n",
    "\n",
    "    def predict_single_with_probs(self, image):\n",
    "        image = image.unsqueeze(0)  # Shape [1, C, H, W]\n",
    "        votes = []\n",
    "        with torch.no_grad():\n",
    "            for model in self.models:\n",
    "                logits = model(image.to(self.device))\n",
    "                pred = torch.argmax(logits, dim=1).item()\n",
    "                votes.append(pred)\n",
    "\n",
    "        # majority voting\n",
    "        final_pred = Counter(votes).most_common(1)[0][0]\n",
    "        return votes, final_pred\n"
   ]
  },
  {
   "cell_type": "code",
   "execution_count": 32,
   "id": "2983c7a6-b5ff-479a-be1d-f0261aad3d24",
   "metadata": {},
   "outputs": [],
   "source": [
    "from torch.utils.data import TensorDataset, DataLoader\n",
    "from art.attacks.evasion import ProjectedGradientDescent\n",
    "from art.estimators.classification import PyTorchClassifier\n",
    "from sklearn.metrics import f1_score, roc_auc_score, accuracy_score\n",
    "from collections import defaultdict\n",
    "\n",
    "\n",
    "def predict_for_ensembles(ensemble_model, test_loader, ens_type): \n",
    "    metrics = {\n",
    "        'accuracy': [],\n",
    "        'f1': [],\n",
    "        'auc': []\n",
    "    } \n",
    "    y_true, y_pred, y_prob = [], [], [] \n",
    "\n",
    "    for imgs, labels in tqdm(test_loader):\n",
    "        img = imgs[0]\n",
    "        label = labels[0].item()\n",
    "\n",
    "        if ens_type == \"soft\": \n",
    "            probs, pred = ensemble_model.predict_single_with_probs(img)\n",
    "        if ens_type == \"des+\": \n",
    "            logits = ensemble_model.predict_weighted_robust(\n",
    "                    img, k=10, return_logits=True, explain=False, top=True, n=3, \n",
    "                    use_fire=False, per_class_min=1, use_sim=True, sim_threshold=0.4, \n",
    "                    alpha=0.5, knorae=False\n",
    "                )\n",
    "            probs = torch.softmax(logits, dim=0).cpu().numpy()\n",
    "            pred = np.argmax(probs)\n",
    "    \n",
    "        y_true.append(label)\n",
    "        y_pred.append(pred)\n",
    "        y_prob.append(probs)\n",
    "\n",
    "    # Compute metrics\n",
    "    acc = accuracy_score(y_true, y_pred) * 100\n",
    "    f1 = f1_score(y_true, y_pred, average='macro') * 100\n",
    "    try:\n",
    "        auc = roc_auc_score(y_true, y_prob, multi_class='ovr') * 100\n",
    "    except:\n",
    "        auc = float('nan')\n",
    "\n",
    "    print(f\"{ens_type} Accuracy: {acc:.2f}%  | F1: {f1:.2f}%  | AUC: {auc:.2f}%\")\n",
    "\n",
    "    metrics['accuracy'].append(acc)\n",
    "    metrics['f1'].append(f1)\n",
    "    metrics['auc'].append(auc) \n",
    "    # print(y_prob)\n",
    "\n",
    "    return metrics\n",
    "\n",
    "\n",
    "\n",
    "def evaluate_classifiers(pool, test_dataset, n_classes):\n",
    "    loader = DataLoader(test_dataset, batch_size=64, shuffle=False)\n",
    "    results = []\n",
    "\n",
    "    for i, model in enumerate(pool):\n",
    "        model = model.to(device)\n",
    "        model.eval()\n",
    "        y_true, y_pred, y_prob = [], [], []\n",
    "\n",
    "        with torch.no_grad():\n",
    "            for imgs, labels in loader:\n",
    "                imgs, labels = imgs.to(device), labels.squeeze().long().to(device)\n",
    "                outputs = model(imgs)\n",
    "                preds = outputs.argmax(dim=1)\n",
    "                probs = torch.softmax(outputs, dim=1)\n",
    "\n",
    "                y_true.extend(labels.cpu().numpy())\n",
    "                y_pred.extend(preds.cpu().numpy())\n",
    "                y_prob.extend(probs.cpu().numpy())\n",
    "\n",
    "        acc = (np.array(y_true) == np.array(y_pred)).mean() * 100\n",
    "        f1 = f1_score(y_true, y_pred, average='macro') * 100\n",
    "        try:\n",
    "            auc = roc_auc_score(y_true, y_prob, multi_class='ovr') * 100\n",
    "        except ValueError:\n",
    "            auc = float('nan')  # Handle single-class test sets\n",
    "\n",
    "        print(f\"{model.__class__.__name__}: {acc}\")\n",
    "\n",
    "        results.append({\n",
    "            'classifier': model.__class__.__name__,\n",
    "            'accuracy': acc,\n",
    "            'f1': f1,\n",
    "            'auc': auc,\n",
    "        })\n",
    "\n",
    "    return results"
   ]
  },
  {
   "cell_type": "code",
   "execution_count": null,
   "id": "1d605afc-b351-46c1-a063-bf9b2a938a86",
   "metadata": {},
   "outputs": [],
   "source": [
    "soft_ensemble = SoftVotingEnsemble(trained_pool, device)\n",
    "hard_ensemble = HardVotingEnsemble(trained_pool, device)"
   ]
  },
  {
   "cell_type": "markdown",
   "id": "0c50d41e-8678-44e5-bd90-23606f89e3a1",
   "metadata": {},
   "source": [
    "### Evaluation "
   ]
  },
  {
   "cell_type": "code",
   "execution_count": 31,
   "id": "df627e76-d71d-4ca8-9673-d2aa3bf8f2a8",
   "metadata": {},
   "outputs": [
    {
     "name": "stdout",
     "output_type": "stream",
     "text": [
      "VGG: 84.35000000000001\n",
      "ResNet: 87.64999999999999\n",
      "DenseNet: 88.44999999999999\n",
      "MobileNetV2: 86.7\n",
      "GoogLeNet: 88.2\n",
      "Xception: 85.55\n",
      "InceptionV3: 88.2\n"
     ]
    }
   ],
   "source": [
    "_ = evaluate_classifiers(trained_pool, cifar10_1, 10)"
   ]
  },
  {
   "cell_type": "code",
   "execution_count": 52,
   "id": "e0174b12-65e6-4efa-b8c9-a5d9771be961",
   "metadata": {},
   "outputs": [],
   "source": [
    "def predict_for_ensembles(ensemble_model, test_loader, ens_type): \n",
    "    metrics = {\n",
    "        'accuracy': [],\n",
    "        'f1': [],\n",
    "        'auc': []\n",
    "    } \n",
    "    y_true, y_pred, y_prob = [], [], [] \n",
    "\n",
    "    for imgs, labels in tqdm(test_loader):\n",
    "        img = imgs[0]\n",
    "        label = labels[0].item()\n",
    "\n",
    "        if ens_type == \"soft\": \n",
    "            probs, pred = ensemble_model.predict_single_with_probs(img)\n",
    "        if ens_type == \"des+\": \n",
    "            logits = ensemble_model.predict_weighted_robust(\n",
    "                    img, k=10, return_logits=True, explain=False, top=True, n=3, \n",
    "                    use_fire=False, per_class_min=1, use_sim=True, sim_threshold=0.4, \n",
    "                    alpha=0.5, knorae=False\n",
    "                )\n",
    "            probs = torch.softmax(logits, dim=0).cpu().numpy()\n",
    "            pred = np.argmax(probs)\n",
    "    \n",
    "        y_true.append(label)\n",
    "        y_pred.append(pred)\n",
    "        y_prob.append(probs)\n",
    "\n",
    "    # Compute metrics\n",
    "    acc = accuracy_score(y_true, y_pred) * 100\n",
    "    f1 = f1_score(y_true, y_pred, average='macro') * 100\n",
    "    try:\n",
    "        auc = roc_auc_score(y_true, y_prob, multi_class='ovr') * 100\n",
    "    except:\n",
    "        auc = float('nan')\n",
    "\n",
    "    print(f\"{ens_type} Accuracy: {acc:.2f}%  | F1: {f1:.2f}%  | AUC: {auc:.2f}%\")\n",
    "\n",
    "    metrics['accuracy'].append(acc)\n",
    "    metrics['f1'].append(f1)\n",
    "    metrics['auc'].append(auc) \n",
    "    # print(y_prob)\n",
    "\n",
    "    return metrics"
   ]
  },
  {
   "cell_type": "code",
   "execution_count": 53,
   "id": "9a27da10-2a74-4664-90bd-7e1769b2b682",
   "metadata": {},
   "outputs": [],
   "source": [
    "cifar10_1_loader = DataLoader(cifar10_1, batch_size=1, shuffle=False, num_workers=2)"
   ]
  },
  {
   "cell_type": "code",
   "execution_count": 55,
   "id": "7133c6ac-4efc-47b6-a9fd-f8c909dbfde2",
   "metadata": {},
   "outputs": [
    {
     "name": "stderr",
     "output_type": "stream",
     "text": [
      "100%|███████████████████████████████████████████████████████████████| 2000/2000 [01:34<00:00, 21.23it/s]\n"
     ]
    },
    {
     "name": "stdout",
     "output_type": "stream",
     "text": [
      "soft Accuracy: 89.60%  | F1: 89.58%  | AUC: 99.36%\n"
     ]
    },
    {
     "name": "stderr",
     "output_type": "stream",
     "text": [
      "100%|███████████████████████████████████████████████████████████████| 2000/2000 [01:33<00:00, 21.29it/s]"
     ]
    },
    {
     "name": "stdout",
     "output_type": "stream",
     "text": [
      "soft Accuracy: 89.80%  | F1: 89.78%  | AUC: nan%\n"
     ]
    },
    {
     "name": "stderr",
     "output_type": "stream",
     "text": [
      "\n"
     ]
    },
    {
     "data": {
      "text/plain": [
       "{'accuracy': [89.8], 'f1': [89.78039781169392], 'auc': [nan]}"
      ]
     },
     "execution_count": 55,
     "metadata": {},
     "output_type": "execute_result"
    }
   ],
   "source": [
    "predict_for_ensembles(soft_ensemble, cifar10_1_loader, \"soft\")\n",
    "predict_for_ensembles(hard_ensemble, cifar10_1_loader, \"soft\")"
   ]
  },
  {
   "cell_type": "code",
   "execution_count": 56,
   "id": "a49c6c15-4088-461d-97da-02df2bce9f83",
   "metadata": {},
   "outputs": [
    {
     "name": "stderr",
     "output_type": "stream",
     "text": [
      "100%|███████████████████████████████████████████████████████████████| 2000/2000 [06:47<00:00,  4.91it/s]\n"
     ]
    },
    {
     "name": "stdout",
     "output_type": "stream",
     "text": [
      "des+ Accuracy: 90.15%  | F1: 90.14%  | AUC: 98.90%\n"
     ]
    },
    {
     "data": {
      "text/plain": [
       "{'accuracy': [90.14999999999999],\n",
       " 'f1': [90.14168073813866],\n",
       " 'auc': [np.float64(98.90163888888888)]}"
      ]
     },
     "execution_count": 56,
     "metadata": {},
     "output_type": "execute_result"
    }
   ],
   "source": [
    "predict_for_ensembles(des_model, cifar10_1_loader, \"des+\")"
   ]
  },
  {
   "cell_type": "code",
   "execution_count": 221,
   "id": "c6b3a850-0918-4afc-932f-2432974c782c",
   "metadata": {},
   "outputs": [],
   "source": [
    "def predict_for_ensembles(ensemble_model, test_loader, ens_type): \n",
    "    metrics = {\n",
    "        'accuracy': [],\n",
    "        'f1': [],\n",
    "        'auc': []\n",
    "    } \n",
    "    y_true, y_pred, y_prob = [], [], [] \n",
    "\n",
    "    for imgs, labels in tqdm(test_loader):\n",
    "        img = imgs[0]\n",
    "        label = labels[0].item()\n",
    "\n",
    "        if ens_type == \"soft\": \n",
    "            probs, pred = ensemble_model.predict_single_with_probs(img)\n",
    "        if ens_type == \"des+\": \n",
    "            logits = ensemble_model.predict_weighted_robust(\n",
    "                    img, k=7, return_logits=True, explain=False, top=True, n=2, \n",
    "                    use_fire=False, per_class_min=1, use_sim=True, sim_threshold=0.4, \n",
    "                    alpha=0.6, knorae=True\n",
    "                )\n",
    "            probs = torch.softmax(logits, dim=0).cpu().numpy()\n",
    "            pred = np.argmax(probs)\n",
    "    \n",
    "        y_true.append(label)\n",
    "        y_pred.append(pred)\n",
    "        y_prob.append(probs)\n",
    "\n",
    "    # Compute metrics\n",
    "    acc = accuracy_score(y_true, y_pred) * 100\n",
    "    f1 = f1_score(y_true, y_pred, average='macro') * 100\n",
    "    try:\n",
    "        auc = roc_auc_score(y_true, y_prob, multi_class='ovr') * 100\n",
    "    except:\n",
    "        auc = float('nan')\n",
    "\n",
    "    print(f\"{ens_type} Accuracy: {acc:.2f}%  | F1: {f1:.2f}%  | AUC: {auc:.2f}%\")\n",
    "\n",
    "    metrics['accuracy'].append(acc)\n",
    "    metrics['f1'].append(f1)\n",
    "    metrics['auc'].append(auc) \n",
    "    # print(y_prob)\n",
    "\n",
    "    return metrics"
   ]
  },
  {
   "cell_type": "code",
   "execution_count": 19,
   "id": "444f9068-e471-487a-b9ae-7208ff3e2c1b",
   "metadata": {},
   "outputs": [],
   "source": [
    "trained_pool = [\n",
    "                vgg19_model.eval(), \n",
    "                resnet50_model.eval(), \n",
    "                densenet169_model.eval(), \n",
    "                mobilenetV2_model.eval(), \n",
    "                googlenet_model.eval(), \n",
    "                xception_model.eval(), \n",
    "                inceptionv3_model.eval()\n",
    "               ]"
   ]
  },
  {
   "cell_type": "code",
   "execution_count": null,
   "id": "979cea8d-45f9-4d5b-92fc-3f069576c5ea",
   "metadata": {},
   "outputs": [],
   "source": []
  },
  {
   "cell_type": "code",
   "execution_count": 223,
   "id": "d715e5d6-3245-4b91-9d14-a0e1d93b1b6f",
   "metadata": {},
   "outputs": [],
   "source": [
    "des_model.pool = trained_pool\n",
    "soft_ensemble = SoftVotingEnsemble(trained_pool, device)\n",
    "hard_ensemble = HardVotingEnsemble(trained_pool, device) "
   ]
  },
  {
   "cell_type": "code",
   "execution_count": 224,
   "id": "a2ddf716-03a3-42b8-b919-2efb9b8c3317",
   "metadata": {},
   "outputs": [
    {
     "name": "stderr",
     "output_type": "stream",
     "text": [
      "100%|███████████████████████████████████████████████████████████████| 2000/2000 [07:06<00:00,  4.68it/s]"
     ]
    },
    {
     "name": "stdout",
     "output_type": "stream",
     "text": [
      "des+ Accuracy: 90.75%  | F1: 90.75%  | AUC: 98.89%\n"
     ]
    },
    {
     "name": "stderr",
     "output_type": "stream",
     "text": [
      "\n"
     ]
    },
    {
     "data": {
      "text/plain": [
       "{'accuracy': [90.75],\n",
       " 'f1': [90.74533524885074],\n",
       " 'auc': [np.float64(98.89191666666667)]}"
      ]
     },
     "execution_count": 224,
     "metadata": {},
     "output_type": "execute_result"
    }
   ],
   "source": [
    "predict_for_ensembles(des_model, cifar10_1_loader, \"des+\")"
   ]
  },
  {
   "cell_type": "code",
   "execution_count": 196,
   "id": "63281b0e-df7e-41bc-af53-20fac15d7d18",
   "metadata": {},
   "outputs": [
    {
     "name": "stderr",
     "output_type": "stream",
     "text": [
      "100%|███████████████████████████████████████████████████████████████| 2000/2000 [01:39<00:00, 20.18it/s]\n"
     ]
    },
    {
     "name": "stdout",
     "output_type": "stream",
     "text": [
      "soft Accuracy: 89.40%  | F1: 89.38%  | AUC: 99.35%\n"
     ]
    },
    {
     "name": "stderr",
     "output_type": "stream",
     "text": [
      "100%|███████████████████████████████████████████████████████████████| 2000/2000 [01:39<00:00, 20.18it/s]"
     ]
    },
    {
     "name": "stdout",
     "output_type": "stream",
     "text": [
      "soft Accuracy: 89.30%  | F1: 89.28%  | AUC: nan%\n"
     ]
    },
    {
     "name": "stderr",
     "output_type": "stream",
     "text": [
      "\n"
     ]
    },
    {
     "data": {
      "text/plain": [
       "{'accuracy': [89.3], 'f1': [89.28480938399694], 'auc': [nan]}"
      ]
     },
     "execution_count": 196,
     "metadata": {},
     "output_type": "execute_result"
    }
   ],
   "source": [
    "predict_for_ensembles(soft_ensemble, cifar10_1_loader, \"soft\")\n",
    "predict_for_ensembles(hard_ensemble, cifar10_1_loader, \"soft\")"
   ]
  },
  {
   "cell_type": "code",
   "execution_count": 103,
   "id": "08e64bb0-1ee1-4095-a019-ee0dc93e8439",
   "metadata": {},
   "outputs": [
    {
     "name": "stdout",
     "output_type": "stream",
     "text": [
      "True y: 7\n",
      "\n",
      "Explainability Report:\n",
      "Model #0: ResNet\n",
      "  - Competence: 1.0000\n",
      "  - Feature similarity: 0.9658\n",
      "  - Combined score: 0.9829\n",
      "  - Combined weight: 0.1679\n",
      "  - 🔥 FIRE: True\n",
      "  - Predicted class: 7 with confidence 1.0000\n",
      "  - Top-5: [7, 5, 3, 1, 9] → [1.0, 0.0, 0.0, 0.0, 0.0]\n",
      "--------------------------------------------------\n",
      "Model #1: DenseNet\n",
      "  - Competence: 1.0000\n",
      "  - Feature similarity: 0.9544\n",
      "  - Combined score: 0.9772\n",
      "  - Combined weight: 0.1669\n",
      "  - 🔥 FIRE: True\n",
      "  - Predicted class: 7 with confidence 0.9990\n",
      "  - Top-5: [7, 9, 4, 3, 5] → [0.999, 0.0, 0.0, 0.0, 0.0]\n",
      "--------------------------------------------------\n",
      "Model #2: MobileNetV2\n",
      "  - Competence: 1.0000\n",
      "  - Feature similarity: 0.8755\n",
      "  - Combined score: 0.9377\n",
      "  - Combined weight: 0.1602\n",
      "  - 🔥 FIRE: True\n",
      "  - Predicted class: 7 with confidence 0.9490\n",
      "  - Top-5: [7, 3, 9, 5, 4] → [0.949, 0.04, 0.004, 0.002, 0.002]\n",
      "--------------------------------------------------\n",
      "Model #3: GoogLeNet\n",
      "  - Competence: 1.0000\n",
      "  - Feature similarity: 0.9407\n",
      "  - Combined score: 0.9703\n",
      "  - Combined weight: 0.1657\n",
      "  - 🔥 FIRE: True\n",
      "  - Predicted class: 7 with confidence 0.9953\n",
      "  - Top-5: [7, 9, 3, 5, 2] → [0.995, 0.003, 0.001, 0.0, 0.0]\n",
      "--------------------------------------------------\n",
      "Model #4: Xception\n",
      "  - Competence: 1.0000\n",
      "  - Feature similarity: 0.9821\n",
      "  - Combined score: 0.9910\n",
      "  - Combined weight: 0.1693\n",
      "  - 🔥 FIRE: True\n",
      "  - Predicted class: 7 with confidence 0.9990\n",
      "  - Top-5: [7, 9, 3, 5, 2] → [0.999, 0.0, 0.0, 0.0, 0.0]\n",
      "--------------------------------------------------\n",
      "Model #5: InceptionV3\n",
      "  - Competence: 1.0000\n",
      "  - Feature similarity: 0.9920\n",
      "  - Combined score: 0.9960\n",
      "  - Combined weight: 0.1701\n",
      "  - 🔥 FIRE: True\n",
      "  - Predicted class: 7 with confidence 0.9994\n",
      "  - Top-5: [7, 3, 4, 1, 5] → [0.999, 0.0, 0.0, 0.0, 0.0]\n",
      "--------------------------------------------------\n",
      "\n",
      "🧠 Final prediction: 7\n",
      "🔝 Top-5 predictions:\n",
      "  - Class 7: 0.9906\n",
      "  - Class 3: 0.0066\n",
      "  - Class 9: 0.0012\n",
      "  - Class 5: 0.0004\n",
      "  - Class 4: 0.0004\n",
      "\n",
      "Model weight distribution:\n",
      "  Model #0: 0.1679\n",
      "  Model #1: 0.1669\n",
      "  Model #2: 0.1602\n",
      "  Model #3: 0.1657\n",
      "  Model #4: 0.1693\n",
      "  Model #5: 0.1701\n",
      "Suspected attacked model: Model #2 (MobileNetV2)\n",
      "\n",
      "RoC visualization:\n"
     ]
    },
    {
     "data": {
      "image/png": "[encoded data removed]",
      "text/plain": [
       "<Figure size 1500x900 with 8 Axes>"
      ]
     },
     "metadata": {},
     "output_type": "display_data"
    },
    {
     "name": "stdout",
     "output_type": "stream",
     "text": [
      "[[3263.6157 3294.4985 3299.982  3351.7227 3354.     3359.8223 3377.0732]]\n"
     ]
    },
    {
     "data": {
      "text/plain": [
       "7"
      ]
     },
     "execution_count": 103,
     "metadata": {},
     "output_type": "execute_result"
    }
   ],
   "source": [
    "index = 1452\n",
    "print(f\"True y: {cifar10_1[index][1]}\")\n",
    "\n",
    "des_model.predict_weighted_robust(\n",
    "                    cifar10_1[index][0], k=7, return_logits=False, explain=True, top=False, n=1, \n",
    "                    use_fire=False, per_class_min=1, use_sim=True, sim_threshold=0.4, \n",
    "                    alpha=0.5, knorae=True\n",
    "                )"
   ]
  },
  {
   "cell_type": "code",
   "execution_count": null,
   "id": "048de917-4661-4f02-9f26-5a84fb1d0be1",
   "metadata": {},
   "outputs": [],
   "source": [
    "import pandas as pd\n",
    "import matplotlib.pyplot as plt\n",
    "from upsetplot import UpSet\n",
    "\n",
    "# Suppose errors[i] is a boolean array of length N (N = len(CIFAR-10.1)) \n",
    "# True = model i misclassified that sample.\n",
    "errors = []\n",
    "\n",
    "for model in trained_pool:\n",
    "    wrong = []\n",
    "    for imgs, labels in cifar10_1_loader:\n",
    "        outputs = model(imgs.to(device))\n",
    "        preds = outputs.argmax(1).cpu()\n",
    "        wrong.extend((preds != labels).numpy())\n",
    "    errors.append(wrong)\n",
    "\n",
    "# Build dataframe for UpSet plot\n",
    "df = pd.DataFrame({f\"Model{i}\": errs for i, errs in enumerate(errors)})\n",
    "UpSet(df, subset_size='count', show_counts=True).plot()\n",
    "plt.show()"
   ]
  },
  {
   "cell_type": "code",
   "execution_count": 67,
   "id": "57bc1c91-6bb5-4c30-9f5f-e291b76d5eba",
   "metadata": {},
   "outputs": [
    {
     "data": {
      "image/png": "[encoded data removed]",
      "text/plain": [
       "<Figure size 2000x400 with 1 Axes>"
      ]
     },
     "metadata": {},
     "output_type": "display_data"
    }
   ],
   "source": [
    "import seaborn as sns\n",
    "import numpy as np\n",
    "\n",
    "error_matrix = np.array(errors)  # shape (6, N)\n",
    "\n",
    "plt.figure(figsize=(20, 4))\n",
    "sns.heatmap(error_matrix, cmap=\"Reds\", cbar=False)\n",
    "plt.xlabel(\"CIFAR-10.1 samples\")\n",
    "plt.ylabel(\"Models\")\n",
    "plt.title(\"Error regions across models on CIFAR-10.1\")\n",
    "plt.show()"
   ]
  },
  {
   "cell_type": "code",
   "execution_count": 68,
   "id": "33882246-c96c-4fa9-a5bc-3b237413e60b",
   "metadata": {},
   "outputs": [
    {
     "data": {
      "text/html": [
       "<div>\n",
       "<style scoped>\n",
       "    .dataframe tbody tr th:only-of-type {\n",
       "        vertical-align: middle;\n",
       "    }\n",
       "\n",
       "    .dataframe tbody tr th {\n",
       "        vertical-align: top;\n",
       "    }\n",
       "\n",
       "    .dataframe thead th {\n",
       "        text-align: right;\n",
       "    }\n",
       "</style>\n",
       "<table border=\"1\" class=\"dataframe\">\n",
       "  <thead>\n",
       "    <tr style=\"text-align: right;\">\n",
       "      <th></th>\n",
       "      <th>Model0</th>\n",
       "      <th>Model1</th>\n",
       "      <th>Model2</th>\n",
       "      <th>Model3</th>\n",
       "      <th>Model4</th>\n",
       "      <th>Model5</th>\n",
       "    </tr>\n",
       "  </thead>\n",
       "  <tbody>\n",
       "    <tr>\n",
       "      <th>0</th>\n",
       "      <td>False</td>\n",
       "      <td>False</td>\n",
       "      <td>False</td>\n",
       "      <td>False</td>\n",
       "      <td>False</td>\n",
       "      <td>False</td>\n",
       "    </tr>\n",
       "    <tr>\n",
       "      <th>1</th>\n",
       "      <td>False</td>\n",
       "      <td>False</td>\n",
       "      <td>False</td>\n",
       "      <td>False</td>\n",
       "      <td>False</td>\n",
       "      <td>False</td>\n",
       "    </tr>\n",
       "    <tr>\n",
       "      <th>2</th>\n",
       "      <td>False</td>\n",
       "      <td>False</td>\n",
       "      <td>False</td>\n",
       "      <td>False</td>\n",
       "      <td>False</td>\n",
       "      <td>False</td>\n",
       "    </tr>\n",
       "    <tr>\n",
       "      <th>3</th>\n",
       "      <td>False</td>\n",
       "      <td>False</td>\n",
       "      <td>False</td>\n",
       "      <td>False</td>\n",
       "      <td>False</td>\n",
       "      <td>False</td>\n",
       "    </tr>\n",
       "    <tr>\n",
       "      <th>4</th>\n",
       "      <td>False</td>\n",
       "      <td>False</td>\n",
       "      <td>False</td>\n",
       "      <td>False</td>\n",
       "      <td>False</td>\n",
       "      <td>False</td>\n",
       "    </tr>\n",
       "    <tr>\n",
       "      <th>...</th>\n",
       "      <td>...</td>\n",
       "      <td>...</td>\n",
       "      <td>...</td>\n",
       "      <td>...</td>\n",
       "      <td>...</td>\n",
       "      <td>...</td>\n",
       "    </tr>\n",
       "    <tr>\n",
       "      <th>1995</th>\n",
       "      <td>False</td>\n",
       "      <td>False</td>\n",
       "      <td>False</td>\n",
       "      <td>False</td>\n",
       "      <td>False</td>\n",
       "      <td>False</td>\n",
       "    </tr>\n",
       "    <tr>\n",
       "      <th>1996</th>\n",
       "      <td>False</td>\n",
       "      <td>False</td>\n",
       "      <td>False</td>\n",
       "      <td>False</td>\n",
       "      <td>False</td>\n",
       "      <td>False</td>\n",
       "    </tr>\n",
       "    <tr>\n",
       "      <th>1997</th>\n",
       "      <td>False</td>\n",
       "      <td>False</td>\n",
       "      <td>False</td>\n",
       "      <td>False</td>\n",
       "      <td>False</td>\n",
       "      <td>False</td>\n",
       "    </tr>\n",
       "    <tr>\n",
       "      <th>1998</th>\n",
       "      <td>False</td>\n",
       "      <td>False</td>\n",
       "      <td>False</td>\n",
       "      <td>False</td>\n",
       "      <td>False</td>\n",
       "      <td>False</td>\n",
       "    </tr>\n",
       "    <tr>\n",
       "      <th>1999</th>\n",
       "      <td>False</td>\n",
       "      <td>False</td>\n",
       "      <td>False</td>\n",
       "      <td>False</td>\n",
       "      <td>False</td>\n",
       "      <td>False</td>\n",
       "    </tr>\n",
       "  </tbody>\n",
       "</table>\n",
       "<p>2000 rows × 6 columns</p>\n",
       "</div>"
      ],
      "text/plain": [
       "      Model0  Model1  Model2  Model3  Model4  Model5\n",
       "0      False   False   False   False   False   False\n",
       "1      False   False   False   False   False   False\n",
       "2      False   False   False   False   False   False\n",
       "3      False   False   False   False   False   False\n",
       "4      False   False   False   False   False   False\n",
       "...      ...     ...     ...     ...     ...     ...\n",
       "1995   False   False   False   False   False   False\n",
       "1996   False   False   False   False   False   False\n",
       "1997   False   False   False   False   False   False\n",
       "1998   False   False   False   False   False   False\n",
       "1999   False   False   False   False   False   False\n",
       "\n",
       "[2000 rows x 6 columns]"
      ]
     },
     "execution_count": 68,
     "metadata": {},
     "output_type": "execute_result"
    }
   ],
   "source": [
    "df"
   ]
  },
  {
   "cell_type": "code",
   "execution_count": null,
   "id": "f8d3ccb1-40aa-41ba-9c25-45ee7bb7eaeb",
   "metadata": {},
   "outputs": [],
   "source": [
    "df "
   ]
  },
  {
   "cell_type": "code",
   "execution_count": 69,
   "id": "3311b25e-ce3d-497f-82cd-bf51d5fcd056",
   "metadata": {},
   "outputs": [
    {
     "name": "stdout",
     "output_type": "stream",
     "text": [
      "Samples misclassified by all 6 models: 90\n"
     ]
    }
   ],
   "source": [
    "import numpy as np\n",
    "\n",
    "# errors: list of length 6, each element is array of shape (N,)\n",
    "# N = number of CIFAR-10.1 samples (2000 in v6)\n",
    "errors = np.array(errors)  # shape (6, N)\n",
    "\n",
    "# Find samples wrong by all models\n",
    "all_wrong = np.all(errors, axis=0)   # shape (N,)\n",
    "num_all_wrong = np.sum(all_wrong)\n",
    "\n",
    "print(f\"Samples misclassified by all 6 models: {num_all_wrong}\")"
   ]
  },
  {
   "cell_type": "code",
   "execution_count": 70,
   "id": "ea54c9b2-d81b-4a5d-b133-c9baf625a649",
   "metadata": {},
   "outputs": [
    {
     "data": {
      "text/plain": [
       "0.045"
      ]
     },
     "execution_count": 70,
     "metadata": {},
     "output_type": "execute_result"
    }
   ],
   "source": [
    "90/2000 "
   ]
  },
  {
   "cell_type": "code",
   "execution_count": 120,
   "id": "c38fda9b-021a-4e0d-aa59-69ad5c4e7730",
   "metadata": {},
   "outputs": [
    {
     "data": {
      "image/png": "[encoded data removed]",
      "text/plain": [
       "<Figure size 2000x400 with 1 Axes>"
      ]
     },
     "metadata": {},
     "output_type": "display_data"
    }
   ],
   "source": [
    "import seaborn as sns\n",
    "import numpy as np\n",
    "import matplotlib.pyplot as plt\n",
    "\n",
    "error_matrix = np.array(errors)  # shape (6, N)\n",
    "\n",
    "# Count how many models failed on each sample\n",
    "sample_difficulty = error_matrix.sum(axis=0)  \n",
    "\n",
    "# Sort columns by number of errors (descending: hardest first)\n",
    "sorted_indices = np.argsort(-sample_difficulty)\n",
    "sorted_error_matrix = error_matrix[:, sorted_indices]\n",
    "\n",
    "plt.figure(figsize=(20, 4))\n",
    "sns.heatmap(sorted_error_matrix, cmap=\"Reds\", cbar=False)\n",
    "plt.xlabel(\"CIFAR-10.1 samples (sorted by difficulty)\")\n",
    "plt.ylabel(\"Models\")\n",
    "plt.title(\"Error regions across models on CIFAR-10.1 (ranked hardest → easiest)\")\n",
    "plt.show()"
   ]
  },
  {
   "cell_type": "markdown",
   "id": "d85899d3-9930-4191-88c0-ec91aee1e26a",
   "metadata": {},
   "source": [
    "### Plot "
   ]
  },
  {
   "cell_type": "code",
   "execution_count": 18,
   "id": "3bb86168-a192-4fac-9647-19e8d1f0f568",
   "metadata": {},
   "outputs": [
    {
     "name": "stdout",
     "output_type": "stream",
     "text": [
      "CIFAR-10.1: (2000, 32768)  Test dataset: (2000, 32768)\n"
     ]
    },
    {
     "data": {
      "image/png": "[encoded data removed]",
      "text/plain": [
       "<Figure size 1000x800 with 1 Axes>"
      ]
     },
     "metadata": {},
     "output_type": "display_data"
    }
   ],
   "source": [
    "import torch\n",
    "import torch.nn.functional as F\n",
    "from torch.utils.data import DataLoader\n",
    "import timm\n",
    "import matplotlib.pyplot as plt\n",
    "import umap\n",
    "import numpy as np\n",
    "\n",
    "device = \"cuda:1\" if torch.cuda.is_available() else \"cpu\"\n",
    "\n",
    "# ---------------------------------------------------------\n",
    "# 1. Load datasets\n",
    "# ---------------------------------------------------------\n",
    "cifar10_1_loader = DataLoader(cifar10_1, batch_size=64, shuffle=False)\n",
    "test_loader = DataLoader(test_set, batch_size=64, shuffle=False)\n",
    "\n",
    "# ---------------------------------------------------------\n",
    "# 2. Load DINO model\n",
    "# ---------------------------------------------------------\n",
    "dino_model = timm.create_model(\"vit_base_patch8_224.dino\", pretrained=True).to(device)\n",
    "dino_model.eval()\n",
    "\n",
    "# ---------------------------------------------------------\n",
    "# 3. Embedding function\n",
    "# ---------------------------------------------------------\n",
    "def dino_embedder(images):\n",
    "    if images.shape[1] == 1:  # grayscale → RGB\n",
    "        images = images.repeat(1, 3, 1, 1)\n",
    "    images = F.interpolate(images, size=(224, 224), mode=\"bilinear\", align_corners=False)\n",
    "    with torch.no_grad():\n",
    "        feats = dino_model.forward_features(images)\n",
    "    if isinstance(feats, dict):\n",
    "        if \"x_norm_clstoken\" in feats:\n",
    "            feats = feats[\"x_norm_clstoken\"]\n",
    "        elif \"avgpool\" in feats:\n",
    "            feats = feats[\"avgpool\"]\n",
    "        else:\n",
    "            feats = feats[list(feats.keys())[0]]\n",
    "    if feats.ndim == 3:  # [B, N, D]\n",
    "        feats = feats.mean(dim=1)  # average patches\n",
    "    return feats.view(feats.size(0), -1)  # [B, D]\n",
    "\n",
    "# ---------------------------------------------------------\n",
    "# 4. Extract embeddings for both datasets\n",
    "# ---------------------------------------------------------\n",
    "def extract_embeddings(dataloader):\n",
    "    embs, labels = [], []\n",
    "    for images, y in dataloader:\n",
    "        images = images.to(device)\n",
    "        feats = resnet_embedder(images)\n",
    "        embs.append(feats.cpu())\n",
    "        labels.append(y)\n",
    "    return torch.cat(embs).numpy(), torch.cat(labels).numpy()\n",
    "\n",
    "emb_cifar10_1, labels_cifar10_1 = extract_embeddings(cifar10_1_loader)\n",
    "emb_test, labels_test = extract_embeddings(test_loader)\n",
    "\n",
    "print(\"CIFAR-10.1:\", emb_cifar10_1.shape, \" Test dataset:\", emb_test.shape)\n",
    "\n",
    "# ---------------------------------------------------------\n",
    "# 5. Combine datasets\n",
    "# ---------------------------------------------------------\n",
    "all_embeddings = np.vstack([emb_cifar10_1, emb_test])\n",
    "dataset_ids = np.array([0]*len(emb_cifar10_1) + [1]*len(emb_test))  # 0=CIFAR-10.1, 1=Test\n",
    "\n",
    "# ---------------------------------------------------------\n",
    "# 6. UMAP dimensionality reduction\n",
    "# ---------------------------------------------------------\n",
    "umap_reducer = umap.UMAP(n_neighbors=15, min_dist=0.1, metric=\"cosine\", random_state=42)\n",
    "embeddings_2d = umap_reducer.fit_transform(all_embeddings)\n",
    "\n",
    "# ---------------------------------------------------------\n",
    "# 7. Plot comparison\n",
    "# ---------------------------------------------------------\n",
    "plt.figure(figsize=(10, 8))\n",
    "\n",
    "# Plot CIFAR-10.1\n",
    "plt.scatter(\n",
    "    embeddings_2d[dataset_ids == 0, 0],\n",
    "    embeddings_2d[dataset_ids == 0, 1],\n",
    "    c=\"blue\", s=10, alpha=0.6, label=\"CIFAR-10.1\"\n",
    ")\n",
    "\n",
    "# Plot Test dataset\n",
    "plt.scatter(\n",
    "    embeddings_2d[dataset_ids == 1, 0],\n",
    "    embeddings_2d[dataset_ids == 1, 1],\n",
    "    c=\"red\", s=10, alpha=0.6, label=\"Test Dataset\"\n",
    ")\n",
    "\n",
    "plt.legend()\n",
    "plt.title(\"CIFAR-10.1 vs Test Dataset (DINO Embeddings via UMAP)\")\n",
    "plt.show()\n"
   ]
  },
  {
   "cell_type": "code",
   "execution_count": null,
   "id": "fd1d8a93-33ad-4c0b-9c31-3ef7b96199c6",
   "metadata": {},
   "outputs": [],
   "source": []
  }
 ],
 "metadata": {
  "kernelspec": {
   "display_name": "Python 3 (ipykernel)",
   "language": "python",
   "name": "python3"
  },
  "language_info": {
   "codemirror_mode": {
    "name": "ipython",
    "version": 3
   },
   "file_extension": ".py",
   "mimetype": "text/x-python",
   "name": "python",
   "nbconvert_exporter": "python",
   "pygments_lexer": "ipython3",
   "version": "3.9.23"
  }
 },
 "nbformat": 4,
 "nbformat_minor": 5
}
